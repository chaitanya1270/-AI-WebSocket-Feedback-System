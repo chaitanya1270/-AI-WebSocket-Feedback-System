{
 "cells": [
  {
   "cell_type": "code",
   "execution_count": 1,
   "metadata": {},
   "outputs": [
    {
     "name": "stdout",
     "output_type": "stream",
     "text": [
      "Requirement already satisfied: nest_asyncio in c:\\users\\ntrst\\anaconda3\\lib\\site-packages (1.5.6)Note: you may need to restart the kernel to use updated packages.\n",
      "\n"
     ]
    }
   ],
   "source": [
    "pip install nest_asyncio\n"
   ]
  },
  {
   "cell_type": "code",
   "execution_count": null,
   "metadata": {},
   "outputs": [
    {
     "name": "stdout",
     "output_type": "stream",
     "text": [
      "Sent message to server: Hello from the client!\n",
      "Connection error: received 1011 (internal error); then sent 1011 (internal error). Retrying...\n",
      "Sent message to server: Hello from the client!\n",
      "Connection error: received 1011 (internal error); then sent 1011 (internal error). Retrying...\n",
      "Sent message to server: Hello from the client!\n",
      "Connection error: received 1011 (internal error); then sent 1011 (internal error). Retrying...\n",
      "Sent message to server: Hello from the client!\n",
      "Connection error: received 1011 (internal error); then sent 1011 (internal error). Retrying...\n",
      "Sent message to server: Hello from the client!\n",
      "Connection error: received 1011 (internal error); then sent 1011 (internal error). Retrying...\n",
      "Sent message to server: Hello from the client!\n",
      "Connection error: received 1011 (internal error); then sent 1011 (internal error). Retrying...\n"
     ]
    }
   ],
   "source": [
    "import asyncio\n",
    "import websockets\n",
    "import nest_asyncio\n",
    "\n",
    "# Allow the nested event loop in Jupyter\n",
    "nest_asyncio.apply()\n",
    "\n",
    "async def client():\n",
    "    uri = \"ws://localhost:8765\"  # WebSocket server URI\n",
    "    \n",
    "    while True:\n",
    "        try:\n",
    "            # Connect to the WebSocket server\n",
    "            async with websockets.connect(uri) as websocket:\n",
    "                # Send a message to the server\n",
    "                message = \"Hello from the client!\"\n",
    "                await websocket.send(message)\n",
    "                print(f\"Sent message to server: {message}\")\n",
    "                \n",
    "                # Receive a message from the server\n",
    "                response = await websocket.recv()\n",
    "                print(f\"Received message from server: {response}\")\n",
    "            break  # Break out of the loop if connection is successful\n",
    "        except (ConnectionRefusedError, websockets.exceptions.ConnectionClosedError) as e:\n",
    "            print(f\"Connection error: {e}. Retrying...\")\n",
    "            await asyncio.sleep(2)  # Wait before retrying\n",
    "\n",
    "# Run the client (in Jupyter, use this way)\n",
    "await client()\n"
   ]
  },
  {
   "cell_type": "code",
   "execution_count": null,
   "metadata": {},
   "outputs": [],
   "source": []
  }
 ],
 "metadata": {
  "kernelspec": {
   "display_name": "Python 3 (ipykernel)",
   "language": "python",
   "name": "python3"
  },
  "language_info": {
   "codemirror_mode": {
    "name": "ipython",
    "version": 3
   },
   "file_extension": ".py",
   "mimetype": "text/x-python",
   "name": "python",
   "nbconvert_exporter": "python",
   "pygments_lexer": "ipython3",
   "version": "3.11.5"
  }
 },
 "nbformat": 4,
 "nbformat_minor": 2
}
