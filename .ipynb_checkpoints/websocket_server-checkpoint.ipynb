{
 "cells": [
  {
   "cell_type": "code",
   "execution_count": null,
   "metadata": {},
   "outputs": [],
   "source": [
    "!pip install websockets"
   ]
  },
  {
   "cell_type": "code",
   "execution_count": 2,
   "metadata": {},
   "outputs": [
    {
     "name": "stdout",
     "output_type": "stream",
     "text": [
      "Requirement already satisfied: nest_asyncio in c:\\users\\ntrst\\anaconda3\\envs\\myenv\\lib\\site-packages (1.6.0)\n",
      "Note: you may need to restart the kernel to use updated packages.\n"
     ]
    }
   ],
   "source": [
    "pip install nest_asyncio\n"
   ]
  },
  {
   "cell_type": "code",
   "execution_count": null,
   "metadata": {},
   "outputs": [
    {
     "name": "stdout",
     "output_type": "stream",
     "text": [
      "WebSocket server running on ws://localhost:8765\n"
     ]
    },
    {
     "name": "stderr",
     "output_type": "stream",
     "text": [
      "connection handler failed\n",
      "Traceback (most recent call last):\n",
      "  File \"c:\\Users\\ntrst\\anaconda3\\envs\\myenv\\Lib\\site-packages\\websockets\\asyncio\\server.py\", line 373, in conn_handler\n",
      "    await self.handler(connection)\n",
      "          ^^^^^^^^^^^^^^^^^^^^^^^^\n",
      "TypeError: echo_server() missing 1 required positional argument: 'path'\n",
      "connection handler failed\n",
      "Traceback (most recent call last):\n",
      "  File \"c:\\Users\\ntrst\\anaconda3\\envs\\myenv\\Lib\\site-packages\\websockets\\asyncio\\server.py\", line 373, in conn_handler\n",
      "    await self.handler(connection)\n",
      "          ^^^^^^^^^^^^^^^^^^^^^^^^\n",
      "TypeError: echo_server() missing 1 required positional argument: 'path'\n",
      "connection handler failed\n",
      "Traceback (most recent call last):\n",
      "  File \"c:\\Users\\ntrst\\anaconda3\\envs\\myenv\\Lib\\site-packages\\websockets\\asyncio\\server.py\", line 373, in conn_handler\n",
      "    await self.handler(connection)\n",
      "          ^^^^^^^^^^^^^^^^^^^^^^^^\n",
      "TypeError: echo_server() missing 1 required positional argument: 'path'\n",
      "connection handler failed\n",
      "Traceback (most recent call last):\n",
      "  File \"c:\\Users\\ntrst\\anaconda3\\envs\\myenv\\Lib\\site-packages\\websockets\\asyncio\\server.py\", line 373, in conn_handler\n",
      "    await self.handler(connection)\n",
      "          ^^^^^^^^^^^^^^^^^^^^^^^^\n",
      "TypeError: echo_server() missing 1 required positional argument: 'path'\n",
      "connection handler failed\n",
      "Traceback (most recent call last):\n",
      "  File \"c:\\Users\\ntrst\\anaconda3\\envs\\myenv\\Lib\\site-packages\\websockets\\asyncio\\server.py\", line 373, in conn_handler\n",
      "    await self.handler(connection)\n",
      "          ^^^^^^^^^^^^^^^^^^^^^^^^\n",
      "TypeError: echo_server() missing 1 required positional argument: 'path'\n",
      "connection handler failed\n",
      "Traceback (most recent call last):\n",
      "  File \"c:\\Users\\ntrst\\anaconda3\\envs\\myenv\\Lib\\site-packages\\websockets\\asyncio\\server.py\", line 373, in conn_handler\n",
      "    await self.handler(connection)\n",
      "          ^^^^^^^^^^^^^^^^^^^^^^^^\n",
      "TypeError: echo_server() missing 1 required positional argument: 'path'\n",
      "connection handler failed\n",
      "Traceback (most recent call last):\n",
      "  File \"c:\\Users\\ntrst\\anaconda3\\envs\\myenv\\Lib\\site-packages\\websockets\\asyncio\\server.py\", line 373, in conn_handler\n",
      "    await self.handler(connection)\n",
      "          ^^^^^^^^^^^^^^^^^^^^^^^^\n",
      "TypeError: echo_server() missing 1 required positional argument: 'path'\n"
     ]
    }
   ],
   "source": [
    "import asyncio\n",
    "import websockets\n",
    "import nest_asyncio\n",
    "\n",
    "# Allow the nested event loop in Jupyter\n",
    "nest_asyncio.apply()\n",
    "\n",
    "async def echo_server(websocket, path):\n",
    "    print(f\"Client connected: {websocket.remote_address}\")\n",
    "    try:\n",
    "        # Receive message from the client\n",
    "        message = await websocket.recv()\n",
    "        print(f\"Received message from client: {message}\")\n",
    "        \n",
    "        # Send a message to the client\n",
    "        response = \"Hello from the server!\"\n",
    "        await websocket.send(response)\n",
    "        print(\"Sent message to client.\")\n",
    "    except Exception as e:\n",
    "        print(f\"Error: {e}\")\n",
    "        await websocket.close()\n",
    "    finally:\n",
    "        print(f\"Client disconnected: {websocket.remote_address}\")\n",
    "\n",
    "async def main():\n",
    "    server_instance = await websockets.serve(echo_server, \"localhost\", 8765)\n",
    "    print(\"WebSocket server running on ws://localhost:8765\")\n",
    "    await server_instance.wait_closed()\n",
    "\n",
    "# Run the server\n",
    "asyncio.get_event_loop().run_until_complete(main())\n"
   ]
  },
  {
   "cell_type": "code",
   "execution_count": null,
   "metadata": {},
   "outputs": [],
   "source": []
  }
 ],
 "metadata": {
  "kernelspec": {
   "display_name": "Python 3 (ipykernel)",
   "language": "python",
   "name": "python3"
  },
  "language_info": {
   "codemirror_mode": {
    "name": "ipython",
    "version": 3
   },
   "file_extension": ".py",
   "mimetype": "text/x-python",
   "name": "python",
   "nbconvert_exporter": "python",
   "pygments_lexer": "ipython3",
   "version": "3.11.5"
  }
 },
 "nbformat": 4,
 "nbformat_minor": 2
}
